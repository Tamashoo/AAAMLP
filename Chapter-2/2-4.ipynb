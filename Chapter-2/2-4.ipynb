{
 "cells": [
  {
   "cell_type": "code",
   "execution_count": 1,
   "metadata": {},
   "outputs": [],
   "source": [
    "import numpy as np\n",
    "import pandas as pd\n",
    "\n",
    "from sklearn import datasets\n",
    "from sklearn import model_selection"
   ]
  },
  {
   "cell_type": "code",
   "execution_count": 2,
   "metadata": {},
   "outputs": [],
   "source": [
    "def create_folds(data):\n",
    "    data['kfold'] = -1\n",
    "    data = data.sample(frac=1).reset_index(drop=True)\n",
    "\n",
    "    num_bins = int(np.floor(1 + np.log2(len(data))))\n",
    "\n",
    "    data.loc[:, 'bins'] = pd.cut(data['target'], bins=num_bins, labels=False)\n",
    "\n",
    "    kf = model_selection.StratifiedKFold(n_splits=5)\n",
    "\n",
    "    for f, (t_, v_) in enumerate(kf.split(X=data, y=data.bins.values)):\n",
    "        data.loc[v_, 'kfold'] = f\n",
    "    \n",
    "    data = data.drop('bins', axis=1)\n",
    "    return data"
   ]
  },
  {
   "cell_type": "code",
   "execution_count": 3,
   "metadata": {},
   "outputs": [
    {
     "name": "stdout",
     "output_type": "stream",
     "text": [
      "        f_0       f_1       f_2       f_3       f_4       f_5       f_6  \\\n",
      "0  1.441875  0.990529 -0.089841 -0.761138 -2.162943 -0.643078  0.815571   \n",
      "1  0.675871  1.219361 -1.103350 -0.757866 -0.871710  0.371006  0.966393   \n",
      "2  0.669559  0.216508  0.399234  0.828717  0.155218 -1.630312 -0.628623   \n",
      "3  2.665926  1.644843  0.364060  1.247800  0.618123 -0.111047  1.337880   \n",
      "4  0.246123  1.209636 -1.379645  1.545741  1.053880  0.312332  0.562111   \n",
      "\n",
      "        f_7       f_8       f_9  ...      f_92      f_93      f_94      f_95  \\\n",
      "0 -1.543337  1.337392  1.396891  ...  0.107236  0.864341 -1.145703  0.820905   \n",
      "1  0.269284  2.076509 -0.273692  ... -0.417114 -0.067364  0.582168  0.252092   \n",
      "2  0.013395 -0.209450  0.054814  ...  0.492073 -0.481061  0.887755  0.861871   \n",
      "3 -0.432684 -0.286515  0.641890  ...  0.345779 -2.347182  0.857488 -0.262953   \n",
      "4  0.195176 -1.353635  0.997533  ... -1.812276  1.819104 -1.503290 -0.457684   \n",
      "\n",
      "       f_96      f_97      f_98      f_99      target  kfold  \n",
      "0  0.894701  0.366339 -0.250481 -0.681032 -367.552613      0  \n",
      "1 -0.547044 -0.031701  1.559113  0.137406  132.148700      0  \n",
      "2  0.656709 -0.145621 -0.631240  0.751892  161.439136      0  \n",
      "3  0.926137  1.509464 -0.558249  1.319010   40.435457      0  \n",
      "4  0.220925 -1.018138  0.228284 -1.149125  140.561768      0  \n",
      "\n",
      "[5 rows x 102 columns]\n",
      "4    3000\n",
      "3    3000\n",
      "2    3000\n",
      "1    3000\n",
      "0    3000\n",
      "Name: kfold, dtype: int64\n"
     ]
    }
   ],
   "source": [
    "if __name__ == '__main__':\n",
    "    X, y = datasets.make_regression(\n",
    "        n_samples=15000, n_features=100, n_targets=1\n",
    "    )\n",
    "\n",
    "    df = pd.DataFrame(\n",
    "        X,\n",
    "        columns=[f\"f_{i}\" for i in range(X.shape[1])]\n",
    "    )\n",
    "    df.loc[:, 'target'] = y\n",
    "\n",
    "    df = create_folds(df)\n",
    "    print(df.head())\n",
    "    print(df.kfold.value_counts())"
   ]
  }
 ],
 "metadata": {
  "kernelspec": {
   "display_name": "AAMLP",
   "language": "python",
   "name": "python3"
  },
  "language_info": {
   "codemirror_mode": {
    "name": "ipython",
    "version": 3
   },
   "file_extension": ".py",
   "mimetype": "text/x-python",
   "name": "python",
   "nbconvert_exporter": "python",
   "pygments_lexer": "ipython3",
   "version": "3.7.6"
  },
  "orig_nbformat": 4
 },
 "nbformat": 4,
 "nbformat_minor": 2
}
