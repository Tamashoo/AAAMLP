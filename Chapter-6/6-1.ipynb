{
 "cells": [
  {
   "cell_type": "code",
   "execution_count": null,
   "metadata": {},
   "outputs": [],
   "source": [
    "import pandas as pd\n",
    "\n",
    "s = pd.date_range('2020-01-01', '2020-01-10', freq='10h').to_series()\n",
    "\n",
    "features = {\n",
    "    'dayofweek': s.dt.dayofweek.values,\n",
    "    'dayofyear': s.dt.dayofyear.values,\n",
    "    'hour': s.dt.hour.values,\n",
    "    'is_leap_year': s.dt.is_leap_year.values,\n",
    "    'quarter': s.dt.quarter.values,\n",
    "    'weekofyear': s.dt.weekofyear.values\n",
    "}"
   ]
  },
  {
   "cell_type": "code",
   "execution_count": 1,
   "metadata": {},
   "outputs": [],
   "source": [
    "def generate_features(df):\n",
    "    df.loc[:, 'year'] = df['date'].dt.year\n",
    "    df.loc[:, 'weekofyear'] = df['date'].dt.weekofyear\n",
    "    df.loc[:, 'month'] = df['date'].dt.month\n",
    "    df.loc[:, 'dayofweek'] = df['date'].dt.dayofweek\n",
    "    df.loc[:, 'weekend'] = (df['date'].dt.weekday >= 5).astype(int)\n",
    "\n",
    "    aggs = {}\n",
    "    aggs['month'] = ['nunique', 'mean']\n",
    "    aggs['weekofyear'] = ['nunique', 'mean']\n",
    "    aggs['num1'] = ['sum', 'max', 'min', 'mean']\n",
    "    aggs['customer_id'] = ['size']\n",
    "    aggs['customer_id'] = ['nunique']\n",
    "\n",
    "    agg_df = df.groupby('customer_id').agg(aggs)\n",
    "    agg_df = agg_df.reset_index()\n",
    "    return agg_df"
   ]
  },
  {
   "cell_type": "code",
   "execution_count": 2,
   "metadata": {},
   "outputs": [
    {
     "name": "stdout",
     "output_type": "stream",
     "text": [
      "  customer_id   month      weekofyear       num1              customer_id\n",
      "              nunique mean    nunique  mean  sum max min mean     nunique\n",
      "0           A       2  1.5          2  28.5   30  20  10   15           1\n",
      "1           B       2  1.5          2  28.5   70  40  30   35           1\n",
      "2           C       2  1.5          2  28.5  110  60  50   55           1\n"
     ]
    }
   ],
   "source": [
    "import pandas as pd\n",
    "import numpy as np\n",
    "from datetime import datetime\n",
    "\n",
    "# データフレームを作成する\n",
    "data = {'customer_id': ['A', 'A', 'B', 'B', 'C', 'C'],\n",
    "        'date': ['2022-01-01', '2022-02-01', '2022-01-01', '2022-02-01', '2022-01-01', '2022-02-01'],\n",
    "        'month': [1, 2, 1, 2, 1, 2],\n",
    "        'num1': [10, 20, 30, 40, 50, 60]}\n",
    "df = pd.DataFrame(data)\n",
    "\n",
    "# 'date'列を日付型に変換する\n",
    "df['date'] = pd.to_datetime(df['date'])\n",
    "\n",
    "# generate_features関数を呼び出して特徴量を生成する\n",
    "features = generate_features(df)\n",
    "\n",
    "# 結果を表示する\n",
    "print(features)\n"
   ]
  },
  {
   "cell_type": "code",
   "execution_count": 4,
   "metadata": {},
   "outputs": [],
   "source": [
    "import numpy as np\n",
    "\n",
    "df = pd.DataFrame(\n",
    "    np.random.rand(100,2),\n",
    "    columns=[f\"f_{i}\" for i in range(1,3)]\n",
    ")"
   ]
  },
  {
   "cell_type": "code",
   "execution_count": 5,
   "metadata": {},
   "outputs": [
    {
     "name": "stdout",
     "output_type": "stream",
     "text": [
      "        f_1       f_2       f_3       f_4       f_5\n",
      "0  0.048195  0.460279  0.002323  0.022183  0.211856\n",
      "1  0.024225  0.460928  0.000587  0.011166  0.212454\n",
      "2  0.924425  0.550188  0.854562  0.508608  0.302707\n",
      "3  0.828545  0.274025  0.686487  0.227042  0.075090\n",
      "4  0.139136  0.602021  0.019359  0.083763  0.362429\n"
     ]
    }
   ],
   "source": [
    "from sklearn import preprocessing\n",
    "\n",
    "pf = preprocessing.PolynomialFeatures(degree=2, interaction_only=False, include_bias=False)\n",
    "pf.fit(df)\n",
    "poly_feats = pf.transform(df)\n",
    "\n",
    "num_feats = poly_feats.shape[1]\n",
    "df_transformed = pd.DataFrame(poly_feats, columns=[f\"f_{i}\" for i in range(1, num_feats+1)])\n",
    "\n",
    "print(df_transformed.head())"
   ]
  },
  {
   "cell_type": "code",
   "execution_count": 10,
   "metadata": {},
   "outputs": [
    {
     "name": "stdout",
     "output_type": "stream",
     "text": [
      "[[ 9.  2.  2.  3. 13.  4.]\n",
      " [nan nan nan 12.  5. nan]\n",
      " [ 9. 14.  6. 14.  5. 13.]\n",
      " [ 4.  5. 13. nan nan  4.]\n",
      " [12.  6.  4. 10.  5.  3.]\n",
      " [ 4. 13.  9. nan 14.  1.]\n",
      " [nan nan  7.  9.  5.  3.]\n",
      " [ 4. 13. 12.  5.  9.  7.]\n",
      " [11.  6.  1.  1. nan  6.]\n",
      " [ 2.  3.  6.  8. 13. 14.]]\n",
      "[[ 9.   2.   2.   3.  13.   4. ]\n",
      " [10.5 10.   5.  12.   5.   8. ]\n",
      " [ 9.  14.   6.  14.   5.  13. ]\n",
      " [ 4.   5.  13.   7.   7.   4. ]\n",
      " [12.   6.   4.  10.   5.   3. ]\n",
      " [ 4.  13.   9.   7.  14.   1. ]\n",
      " [ 8.   9.5  7.   9.   5.   3. ]\n",
      " [ 4.  13.  12.   5.   9.   7. ]\n",
      " [11.   6.   1.   1.   9.   6. ]\n",
      " [ 2.   3.   6.   8.  13.  14. ]]\n"
     ]
    }
   ],
   "source": [
    "import numpy as np\n",
    "from sklearn import impute\n",
    "\n",
    "X = np.random.randint(1, 15, (10, 6))\n",
    "X = X.astype(float)\n",
    "X.ravel()[np.random.choice(X.size, 10, replace=False)] = np.nan\n",
    "\n",
    "print(X)\n",
    "knn_imputer = impute.KNNImputer(n_neighbors=2)\n",
    "X = knn_imputer.fit_transform(X)\n",
    "\n",
    "print(X)\n"
   ]
  },
  {
   "cell_type": "code",
   "execution_count": 8,
   "metadata": {},
   "outputs": [
    {
     "name": "stdout",
     "output_type": "stream",
     "text": [
      "[[nan  8.  4. 10.  3. nan]\n",
      " [ 3. nan  6.  7.  8. 14.]\n",
      " [ 4. 10. nan nan  9.  1.]\n",
      " [ 4. 12.  2.  8.  3.  2.]\n",
      " [ 9. 11. nan 11.  8.  1.]\n",
      " [ 6.  7.  6. nan 12. 14.]\n",
      " [ 5. 11.  2.  9.  3.  1.]\n",
      " [ 8.  4.  9. 14.  8. 11.]\n",
      " [nan nan  6. 12.  2.  3.]\n",
      " [ 1. 10. 11. nan  8.  3.]]\n"
     ]
    }
   ],
   "source": [
    "\n",
    "\n",
    "knn_imputer = impute.KNNImputer(n_neighbors=2)\n",
    "knn_imputer.fit_transform(X)\n",
    "\n",
    "print(X)"
   ]
  }
 ],
 "metadata": {
  "kernelspec": {
   "display_name": "AAMLP",
   "language": "python",
   "name": "python3"
  },
  "language_info": {
   "codemirror_mode": {
    "name": "ipython",
    "version": 3
   },
   "file_extension": ".py",
   "mimetype": "text/x-python",
   "name": "python",
   "nbconvert_exporter": "python",
   "pygments_lexer": "ipython3",
   "version": "3.7.6"
  },
  "orig_nbformat": 4
 },
 "nbformat": 4,
 "nbformat_minor": 2
}
